{
 "cells": [
  {
   "cell_type": "markdown",
   "metadata": {},
   "source": [
    "# Tools\n"
   ]
  },
  {
   "cell_type": "markdown",
   "metadata": {},
   "source": [
    "### Movefile"
   ]
  },
  {
   "cell_type": "code",
   "execution_count": null,
   "metadata": {},
   "outputs": [],
   "source": [
    "import os\n",
    "import shutil\n",
    "import random\n",
    "\n",
    "source_folder = \"./database/training\"\n",
    "source_traget = \"./database/validation\"\n",
    "\n",
    "for folder in os.listdir(source_folder):\n",
    "    if not os.path.isdir(os.path.join(source_traget, folder)):\n",
    "        os.makedirs(os.path.join(source_traget, folder))\n",
    "\n",
    "    file_list = os.listdir(os.path.join(source_folder, folder))\n",
    "    files_to_move = int(len(file_list) * 0.2)\n",
    "\n",
    "    samples_to_move = random.sample(file_list,files_to_move)\n",
    "    \n",
    "    for sample in samples_to_move:\n",
    "        shutil.move(os.path.join(source_folder, folder, sample), os.path.join(source_traget, folder, sample))\n",
    "        print(sample)\n"
   ]
  }
 ],
 "metadata": {
  "kernelspec": {
   "display_name": "Python 3",
   "language": "python",
   "name": "python3"
  },
  "language_info": {
   "codemirror_mode": {
    "name": "ipython",
    "version": 3
   },
   "file_extension": ".py",
   "mimetype": "text/x-python",
   "name": "python",
   "nbconvert_exporter": "python",
   "pygments_lexer": "ipython3",
   "version": "3.10.0"
  }
 },
 "nbformat": 4,
 "nbformat_minor": 2
}
